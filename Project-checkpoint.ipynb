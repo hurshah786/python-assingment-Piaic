{
 "cells": [
  {
   "cell_type": "code",
   "execution_count": 7,
   "metadata": {},
   "outputs": [
    {
     "name": "stdout",
     "output_type": "stream",
     "text": [
      "Enter Radius1\n",
      "Area is: 3.142\n"
     ]
    }
   ],
   "source": [
    "#Q1 Area of circle\n",
    "def area(radius_in):\n",
    "    return (3.142*radius_in*radius_in)\n",
    "\n",
    "radius = float(input(\"Enter Radius\"))\n",
    "print(\"Area is:\",area(radius))"
   ]
  },
  {
   "cell_type": "code",
   "execution_count": 16,
   "metadata": {},
   "outputs": [
    {
     "name": "stdout",
     "output_type": "stream",
     "text": [
      "Enter Number:12\n",
      "Positive\n"
     ]
    }
   ],
   "source": [
    "#Q2 Check number\n",
    "num=float(input(\"Enter Number:\"))\n",
    "if num>0:\n",
    "    print(\"Positive\")\n",
    "elif num<0:\n",
    "    print(\"Negative\")\n",
    "else:\n",
    "    print(\"Zero\")"
   ]
  },
  {
   "cell_type": "code",
   "execution_count": 19,
   "metadata": {},
   "outputs": [
    {
     "name": "stdout",
     "output_type": "stream",
     "text": [
      "Enter 1st number1\n",
      "Enter 2nd number1\n",
      "1.0 is completely divisiable by 1.0\n"
     ]
    }
   ],
   "source": [
    "#Q3 Divisablity Check\n",
    "num1=float(input(\"Enter 1st number\"))\n",
    "num2=float(input(\"Enter 2nd number\"))\n",
    "if num1%num2==0:\n",
    "    print(\"{} is completely divisiable by {}\".format(num1,num2))\n",
    "else:\n",
    "    print(\"{} is NOT completely divisiable by {}\".format(num1,num2))"
   ]
  },
  {
   "cell_type": "code",
   "execution_count": 1,
   "metadata": {},
   "outputs": [
    {
     "name": "stdout",
     "output_type": "stream",
     "text": [
      "27 6 2019\n",
      "29 6 2019\n",
      "2 days\n"
     ]
    }
   ],
   "source": [
    "#Q4 Number of days b/W dates\n",
    "from datetime import date\n",
    "dd,mm,yy= map(int,input().split())\n",
    "dt1=date(yy,mm,dd)\n",
    "dd,mm,yy= map(int,input().split())\n",
    "dt2=date(yy,mm,dd)\n",
    "diff=(dt1-dt2)*-1\n",
    "print(\"{} days\".format(diff.days))"
   ]
  },
  {
   "cell_type": "code",
   "execution_count": 4,
   "metadata": {},
   "outputs": [
    {
     "name": "stdout",
     "output_type": "stream",
     "text": [
      "Enter Radius2\n",
      "Volume is: 33.51466666666666\n"
     ]
    }
   ],
   "source": [
    "#Q5 Volume of sphere\n",
    "def vol(radius_in):\n",
    "    return ((4/3)*3.142*radius_in*radius_in*radius_in)\n",
    "\n",
    "radius = float(input(\"Enter Radius\"))\n",
    "print(\"Volume is:\",vol(radius))"
   ]
  },
  {
   "cell_type": "code",
   "execution_count": 7,
   "metadata": {},
   "outputs": [
    {
     "name": "stdout",
     "output_type": "stream",
     "text": [
      "Enter string:hi\n",
      "Enter number of times yo want to print string:1\n",
      "hi\n"
     ]
    }
   ],
   "source": [
    "#Q6 copy string n times\n",
    "str1=input(\"Enter string:\")\n",
    "n=int(input(\"Enter number of times yo want to print string:\"))\n",
    "while n != 0:\n",
    "    print(str1)\n",
    "    n=n-1"
   ]
  },
  {
   "cell_type": "code",
   "execution_count": 11,
   "metadata": {},
   "outputs": [
    {
     "name": "stdout",
     "output_type": "stream",
     "text": [
      "Enter number:1000\n",
      "Even\n"
     ]
    }
   ],
   "source": [
    "#Q7 Even Odd check\n",
    "num=float(input(\"Enter number:\"))\n",
    "if num%2==0:\n",
    "    print(\"Even\")\n",
    "else:\n",
    "    print(\"Odd\")"
   ]
  },
  {
   "cell_type": "code",
   "execution_count": 6,
   "metadata": {},
   "outputs": [
    {
     "name": "stdout",
     "output_type": "stream",
     "text": [
      "Enter character:a\n",
      "Is Vowel\n"
     ]
    }
   ],
   "source": [
    "#Q8 vowel check\n",
    "vow=[\"a\",\"e\",\"i\",\"o\",\"u\",\"A\",\"E\",\"I\",\"O\",\"U\"]\n",
    "char=input(\"Enter character:\")\n",
    "flag=0\n",
    "for x in vow:\n",
    "    if char==x:\n",
    "        print(\"Is Vowel\")\n",
    "        flag=flag+1\n",
    "        break\n",
    "if flag==0:\n",
    "    print(\"!Vowel\")"
   ]
  },
  {
   "cell_type": "code",
   "execution_count": 8,
   "metadata": {},
   "outputs": [
    {
     "name": "stdout",
     "output_type": "stream",
     "text": [
      "Enter base:2\n",
      "Enter height:2\n",
      "Area of triangle is 2.0\n"
     ]
    }
   ],
   "source": [
    "#Q9 Area of triangle\n",
    "b=int(input(\"Enter base:\"))\n",
    "h=int(input(\"Enter height:\"))\n",
    "print(\"Area of triangle is {}\".format(1/2*b*h))"
   ]
  },
  {
   "cell_type": "code",
   "execution_count": 14,
   "metadata": {},
   "outputs": [
    {
     "name": "stdout",
     "output_type": "stream",
     "text": [
      "Enter principle:10000\n",
      "Enter rate:0.1\n",
      "Enter No. of years:5\n",
      "10000 after 5 years will be 10049.999999999998\n"
     ]
    }
   ],
   "source": [
    "#Q10 Simple interest\n",
    "p=int(input(\"Enter principle:\"))\n",
    "r=float(input(\"Enter rate:\"))\n",
    "t=int(input(\"Enter No. of years:\"))\n",
    "newp=p*(1+((r/100)*t))\n",
    "print(\"{} after {} years will be {}\".format(p,n,newp))"
   ]
  },
  {
   "cell_type": "code",
   "execution_count": 17,
   "metadata": {},
   "outputs": [
    {
     "name": "stdout",
     "output_type": "stream",
     "text": [
      "Enter x1:2\n",
      "Enter y1:4\n",
      "Enter x2:4\n",
      "Enter y2:4\n",
      "Distance between (2.0,4.0) and (4.0,4.0) is 2.0\n"
     ]
    }
   ],
   "source": [
    "#Q11 Euclidean distance \n",
    "import math\n",
    "x1=float(input(\"Enter x1:\"))\n",
    "y1=float(input(\"Enter y1:\"))\n",
    "x2=float(input(\"Enter x2:\"))\n",
    "y2=float(input(\"Enter y2:\"))\n",
    "dis=math.sqrt(((y2-y1)*(y2-y1))+((x2-x1)*(x2-x1)))\n",
    "print(\"Distance between ({},{}) and ({},{}) is {}\".format(x1,y1,x2,y2,dis))"
   ]
  },
  {
   "cell_type": "code",
   "execution_count": 19,
   "metadata": {},
   "outputs": [
    {
     "name": "stdout",
     "output_type": "stream",
     "text": [
      "Enter fts:1\n",
      "There are 30.48 cms in 1.0 fts\n"
     ]
    }
   ],
   "source": [
    "#Q12 Feet to Centimeter Converter \n",
    "ft=float(input(\"Enter fts:\"))\n",
    "cms=ft*30.48\n",
    "print(\"There are {} cms in {} fts\".format(cms,ft))"
   ]
  },
  {
   "cell_type": "code",
   "execution_count": 24,
   "metadata": {},
   "outputs": [
    {
     "name": "stdout",
     "output_type": "stream",
     "text": [
      "Enter height in cm:180\n",
      "Enter mass in kgs:75\n",
      "BMI is: 23.148148148148145\n"
     ]
    }
   ],
   "source": [
    "#Q13 BMI Calculator \n",
    "h=float(input(\"Enter height in cm:\"))\n",
    "m=float(input(\"Enter mass in kgs:\"))\n",
    "h=h/100\n",
    "bmi=m/(h*h)\n",
    "print(\"BMI is: {}\".format(bmi))"
   ]
  },
  {
   "cell_type": "code",
   "execution_count": 26,
   "metadata": {},
   "outputs": [
    {
     "name": "stdout",
     "output_type": "stream",
     "text": [
      "Enter n:2\n",
      "Sum= 3\n"
     ]
    }
   ],
   "source": [
    "#Q14 Sum of n Positive Integers \n",
    "n=int(input(\"Enter n:\"))\n",
    "summ=0\n",
    "while n!=0:\n",
    "    summ=summ+n\n",
    "    n=n-1\n",
    "print(\"Sum=\",summ)"
   ]
  },
  {
   "cell_type": "code",
   "execution_count": 27,
   "metadata": {},
   "outputs": [
    {
     "name": "stdout",
     "output_type": "stream",
     "text": [
      "Enter number:15\n"
     ]
    },
    {
     "data": {
      "text/plain": [
       "6"
      ]
     },
     "execution_count": 27,
     "metadata": {},
     "output_type": "execute_result"
    }
   ],
   "source": [
    "#Q15 Digits Sum of a Number \n",
    "def sum_digits(n):\n",
    "   r = 0\n",
    "   while n:\n",
    "       r, n = r + n % 10, n // 10\n",
    "   return r\n",
    "n=int(input(\"Enter number:\"))\n",
    "sum_digits(n)"
   ]
  },
  {
   "cell_type": "code",
   "execution_count": 1,
   "metadata": {},
   "outputs": [
    {
     "name": "stdout",
     "output_type": "stream",
     "text": [
      "13\n"
     ]
    }
   ],
   "source": [
    "#Q16 Binary to Decimal Converter \n",
    "def binToDec(binary): \n",
    "      \n",
    "    binary1 = binary \n",
    "    decimal, i, n = 0, 0, 0\n",
    "    while(binary != 0): \n",
    "        dec = binary % 10\n",
    "        decimal = decimal + dec * pow(2, i) \n",
    "        binary = binary//10\n",
    "        i += 1\n",
    "    print(decimal)\n",
    "\n",
    "binToDec(1101)"
   ]
  },
  {
   "cell_type": "code",
   "execution_count": 10,
   "metadata": {},
   "outputs": [
    {
     "name": "stdout",
     "output_type": "stream",
     "text": [
      "Enter String:QuickBrownFoxJumpsovertheDog \n",
      "Vowels=9\n",
      "Consonants=20\n"
     ]
    }
   ],
   "source": [
    "#q17 Vowel and Consonants Counter\n",
    "vow=[\"a\",\"e\",\"i\",\"o\",\"u\",\"A\",\"E\",\"I\",\"O\",\"U\"]\n",
    "string=input(\"Enter String:\")\n",
    "v=0\n",
    "c=0\n",
    "flag=0\n",
    "for i in string:\n",
    "    for x in vow:\n",
    "        if i==x:\n",
    "            v+=1\n",
    "            flag+=1\n",
    "            break\n",
    "        else:\n",
    "            flag=0\n",
    "    if flag==0:\n",
    "        c+=1\n",
    "print(\"Vowels={}\".format(v))\n",
    "print(\"Consonants={}\".format(c))"
   ]
  },
  {
   "cell_type": "code",
   "execution_count": 13,
   "metadata": {},
   "outputs": [
    {
     "name": "stdout",
     "output_type": "stream",
     "text": [
      "Enter StringHello\n",
      "Hello is NOT Palindrome\n"
     ]
    }
   ],
   "source": [
    "#Q18 Palindrome tester \n",
    "def reverse(s): \n",
    "    return s[::-1] \n",
    "  \n",
    "def isPalindrome(s): \n",
    "    # Calling reverse function \n",
    "    rev = reverse(s) \n",
    "  \n",
    "    # Checking if both string are equal or not \n",
    "    if (s == rev): \n",
    "        return True\n",
    "    return False\n",
    "  \n",
    "  \n",
    "s=input(\"Enter String\")\n",
    "ans = isPalindrome(s) \n",
    "  \n",
    "if ans == 1: \n",
    "    print(\"{} is Palindrome\".format(s))\n",
    "else: \n",
    "    print(\"{} is NOT Palindrome\".format(s))"
   ]
  },
  {
   "cell_type": "code",
   "execution_count": 15,
   "metadata": {},
   "outputs": [
    {
     "name": "stdout",
     "output_type": "stream",
     "text": [
      "Input a string:Python 3.2\n",
      "Letters 6\n",
      "Digits 2\n",
      "Special 2\n"
     ]
    }
   ],
   "source": [
    "#Q19 Count Alphabets, Numbers and Special Characters\n",
    "s = input(\"Input a string:\")\n",
    "d=l=sp=0\n",
    "for c in s:\n",
    "    if c.isdigit():\n",
    "        d=d+1\n",
    "    elif c.isalpha():\n",
    "        l=l+1\n",
    "    else:\n",
    "        sp+=1\n",
    "print(\"Letters\", l)\n",
    "print(\"Digits\", d)\n",
    "print(\"Special\", sp)"
   ]
  },
  {
   "cell_type": "code",
   "execution_count": 17,
   "metadata": {},
   "outputs": [
    {
     "name": "stdout",
     "output_type": "stream",
     "text": [
      "* \r\n",
      "* * \r\n",
      "* * * \r\n",
      "* * * * \r\n",
      "* * * * * \r\n",
      "* * * * \r\n",
      "* * * \r\n",
      "* * \r\n",
      "* \r\n",
      "\r\n"
     ]
    }
   ],
   "source": [
    "#Q20\n",
    "rows = 5\n",
    "for i in range (0, rows):\n",
    "    for j in range(0, i + 1):\n",
    "        print(\"*\", end=' ')\n",
    "    print(\"\\r\")\n",
    "for i in range (rows, 0, -1):\n",
    "    for j in range(0, i -1):\n",
    "        print(\"*\", end=' ')\n",
    "    print(\"\\r\")"
   ]
  },
  {
   "cell_type": "code",
   "execution_count": 19,
   "metadata": {},
   "outputs": [
    {
     "name": "stdout",
     "output_type": "stream",
     "text": [
      "1 \r\n",
      "1 2 \r\n",
      "1 2 3 \r\n",
      "1 2 3 4 \r\n",
      "1 2 3 4 5 \r\n",
      "1 2 3 4 \r\n",
      "1 2 3 \r\n",
      "1 2 \r\n",
      "1 \r\n",
      "\r\n"
     ]
    }
   ],
   "source": [
    "#Q21\n",
    "rows = 5\n",
    "for i in range (0, rows):\n",
    "    for j in range(0, i + 1):\n",
    "        print(j+1, end=' ')\n",
    "    print(\"\\r\")\n",
    "for i in range (rows, 0, -1):\n",
    "    for j in range(0, i -1):\n",
    "        print(j+1, end=' ')\n",
    "    print(\"\\r\")"
   ]
  },
  {
   "cell_type": "code",
   "execution_count": 22,
   "metadata": {},
   "outputs": [
    {
     "name": "stdout",
     "output_type": "stream",
     "text": [
      "\r\n",
      "1 \r\n",
      "2 2 \r\n",
      "3 3 3 \r\n",
      "4 4 4 4 \r\n",
      "5 5 5 5 5 \r\n",
      "6 6 6 6 6 6 \r\n",
      "7 7 7 7 7 7 7 \r\n",
      "8 8 8 8 8 8 8 8 \r\n",
      "9 9 9 9 9 9 9 9 9 \r\n"
     ]
    }
   ],
   "source": [
    "#Q23\n",
    "for num in range(10):\n",
    "    for i in range(num):\n",
    "        print (num, end=\" \")\n",
    "    print(\"\\r\")"
   ]
  }
 ],
 "metadata": {
  "kernelspec": {
   "display_name": "Python 3",
   "language": "python",
   "name": "python3"
  },
  "language_info": {
   "codemirror_mode": {
    "name": "ipython",
    "version": 3
   },
   "file_extension": ".py",
   "mimetype": "text/x-python",
   "name": "python",
   "nbconvert_exporter": "python",
   "pygments_lexer": "ipython3",
   "version": "3.7.1"
  }
 },
 "nbformat": 4,
 "nbformat_minor": 2
}
